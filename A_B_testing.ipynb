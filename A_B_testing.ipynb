{
  "nbformat": 4,
  "nbformat_minor": 0,
  "metadata": {
    "colab": {
      "provenance": []
    },
    "kernelspec": {
      "name": "python3",
      "display_name": "Python 3"
    },
    "language_info": {
      "name": "python"
    }
  },
  "cells": [
    {
      "cell_type": "code",
      "source": [
        "import pandas as pd\n",
        "from scipy.stats import levene\n",
        "from scipy.stats import ttest_ind\n",
        "import pandas as pd\n",
        "from scipy.stats import norm\n",
        "import matplotlib.pyplot as plt"
      ],
      "metadata": {
        "id": "g_8MDQnjP-tN"
      },
      "execution_count": 15,
      "outputs": []
    },
    {
      "cell_type": "code",
      "source": [
        "#Load dataframe\n",
        "df_control = pd.read_csv(\"control_group.csv\")\n",
        "df_test = pd.read_csv(\"test_group.csv\")"
      ],
      "metadata": {
        "id": "W342DfTCwMhS"
      },
      "execution_count": 2,
      "outputs": []
    },
    {
      "cell_type": "code",
      "source": [
        "df_control.info()\n",
        "df_test.info()"
      ],
      "metadata": {
        "colab": {
          "base_uri": "https://localhost:8080/"
        },
        "id": "EtBtlN2KHl5T",
        "outputId": "d432612b-1037-41f1-de13-9b2d68a6dd7d"
      },
      "execution_count": 3,
      "outputs": [
        {
          "output_type": "stream",
          "name": "stdout",
          "text": [
            "<class 'pandas.core.frame.DataFrame'>\n",
            "RangeIndex: 40 entries, 0 to 39\n",
            "Data columns (total 4 columns):\n",
            " #   Column      Non-Null Count  Dtype\n",
            "---  ------      --------------  -----\n",
            " 0   Impression  40 non-null     int64\n",
            " 1   Click       40 non-null     int64\n",
            " 2   Purchase    40 non-null     int64\n",
            " 3   Earning     40 non-null     int64\n",
            "dtypes: int64(4)\n",
            "memory usage: 1.4 KB\n",
            "<class 'pandas.core.frame.DataFrame'>\n",
            "RangeIndex: 40 entries, 0 to 39\n",
            "Data columns (total 4 columns):\n",
            " #   Column      Non-Null Count  Dtype\n",
            "---  ------      --------------  -----\n",
            " 0   Impression  40 non-null     int64\n",
            " 1   Click       40 non-null     int64\n",
            " 2   Purchase    40 non-null     int64\n",
            " 3   Earning     40 non-null     int64\n",
            "dtypes: int64(4)\n",
            "memory usage: 1.4 KB\n"
          ]
        }
      ]
    },
    {
      "cell_type": "code",
      "source": [
        "# chack for duplicate\n",
        "df_control.duplicated().sum(), df_test.duplicated().sum()"
      ],
      "metadata": {
        "colab": {
          "base_uri": "https://localhost:8080/"
        },
        "id": "Htvv1_HfHqLM",
        "outputId": "21dec6ec-3a8d-42dc-9b0e-2da01fe49bd0"
      },
      "execution_count": 5,
      "outputs": [
        {
          "output_type": "execute_result",
          "data": {
            "text/plain": [
              "(0, 0)"
            ]
          },
          "metadata": {},
          "execution_count": 5
        }
      ]
    },
    {
      "cell_type": "markdown",
      "source": [
        "# Define the null and alternative hypothsis¶\n",
        "In statistical hypothesis testing, the null hypothesis (H0) suppose that there is no significant effect, relationship, or difference in the variables being studied. It serves as a baseline assumption for statistical analysis. On the other hand, the alternative hypothesis (H1 or Ha) suggests the presence of a statistically significant effect, relationship, or difference. Researchers use hypothesis testing to evaluate the evidence against the null hypothesis, aiming to determine whether the observed data provides enough support to reject the null hypothesis in favor of the alternative. The interplay between these hypotheses forms the foundation for drawing conclusions in statistical analyses.\n",
        "Choose one of these setting based on the problem."
      ],
      "metadata": {
        "id": "fyJfQB1NUemW"
      }
    },
    {
      "cell_type": "code",
      "source": [
        "concatenated_control = pd.concat([\n",
        "    df_control.describe().T,\n",
        "    df_control.skew().rename('skewness'),\n",
        "    df_control.kurtosis().rename('kurtosis')\n",
        "], axis=1)\n",
        "\n",
        "print(concatenated_control)\n",
        "\n",
        "concatenated_test = pd.concat([\n",
        "    df_test.describe().T,\n",
        "    df_test.skew().rename('skewness'),\n",
        "    df_test.kurtosis().rename('kurtosis')\n",
        "], axis=1)\n",
        "\n",
        "print(concatenated_test)"
      ],
      "metadata": {
        "colab": {
          "base_uri": "https://localhost:8080/"
        },
        "id": "_aXDSa01H3Vf",
        "outputId": "d956e92c-8533-4c69-cedc-c2f4395f3b04"
      },
      "execution_count": 6,
      "outputs": [
        {
          "output_type": "stream",
          "name": "stdout",
          "text": [
            "            count        mean           std      min       25%      50%  \\\n",
            "Impression   40.0  101711.450  20302.122984  45476.0  85726.75  99790.5   \n",
            "Click        40.0    5100.625   1329.957772   2190.0   4124.25   5001.5   \n",
            "Purchase     40.0     550.900    134.110517    267.0    470.50    531.5   \n",
            "Earning      40.0    1908.575    302.868329   1254.0   1685.75   1975.0   \n",
            "\n",
            "                 75%       max  skewness  kurtosis  \n",
            "Impression  115212.5  147539.0 -0.001687  0.410967  \n",
            "Click         5923.5    7959.0  0.179859 -0.436239  \n",
            "Purchase       638.0     802.0 -0.026949 -0.571140  \n",
            "Earning       2120.0    2497.0 -0.275640 -0.382968  \n",
            "            count        mean           std      min        25%       50%  \\\n",
            "Impression   40.0  120512.425  18807.466616  79034.0  112692.25  119291.5   \n",
            "Click        40.0    3967.550    923.071766   1837.0    3376.50    3931.5   \n",
            "Purchase     40.0     582.050    161.175164    312.0     444.75     551.0   \n",
            "Earning      40.0    2514.925    282.707912   1940.0    2280.25    2544.5   \n",
            "\n",
            "                  75%       max  skewness  kurtosis  \n",
            "Impression  132050.75  158606.0 -0.185645  0.278201  \n",
            "Click         4660.25    6020.0  0.098963  0.122631  \n",
            "Purchase       699.75     890.0  0.228681 -1.020512  \n",
            "Earning       2761.75    3171.0 -0.042370 -0.375022  \n"
          ]
        }
      ]
    },
    {
      "cell_type": "markdown",
      "source": [
        "# Set the probability of type I and type II errors¶\n",
        "In statistical hypothesis testing, the probability of Type I error (α) corresponds to the likelihood of incorrectly rejecting a true null hypothesis. This is associated with the significance level of the test, denoting the threshold for considering results as statistically significant. On the other hand, the probability of Type II error (β) represents the chance of failing to reject a false null hypothesis. Power (1-β) is the complementary probability to Type II error and reflects the test's ability to correctly identify a true effect when it exists. Adjusting the significance level impacts the trade-off between Type I and Type II errors; a lower significance level reduces the likelihood of Type I error but may increase the risk of Type II error. Researchers must carefully consider these probabilities and the desired balance between them when designing and interpreting hypothesis tests.\n",
        "In this example we set : α=0.05 and β=0.2."
      ],
      "metadata": {
        "id": "htHDC2MpUmWg"
      }
    },
    {
      "cell_type": "code",
      "source": [
        "\n",
        "alpha = 0.05\n",
        "beta = 0.2\n",
        "Z = (norm.ppf(1-(alpha/2), loc=0, scale=1) + norm.ppf(1-beta, loc=0, scale=1))**2\n",
        "var = pd.concat([df_control['Earning'],df_test['Earning']]).var()\n",
        "expected_effect_size = 200\n",
        "\n",
        "sample_size = (Z*2*var)/(expected_effect_size**2)\n",
        "\n",
        "print(sample_size.astype('int'))"
      ],
      "metadata": {
        "colab": {
          "base_uri": "https://localhost:8080/"
        },
        "id": "RXCCJKW_IVnK",
        "outputId": "d37a8f03-194d-4738-9a5a-f6d573680414"
      },
      "execution_count": 7,
      "outputs": [
        {
          "output_type": "stream",
          "name": "stdout",
          "text": [
            "69\n"
          ]
        }
      ]
    },
    {
      "cell_type": "code",
      "source": [
        "\n",
        "\n",
        "fig, ax = plt.subplots(nrows=1, ncols=1, figsize=(5, 3))\n",
        "\n",
        "ax.boxplot(\n",
        "    x=[df_control['Earning'],df_test['Earning']],         # Data to be plotted\n",
        "    vert=False,                 # Whether to create a vertical boxplot (True) or horizontal (False)\n",
        "    patch_artist=True,          # If True, fill the box with color\n",
        "    widths=0.5,                 # Width of the boxes\n",
        "    sym='r|',                   # Symbol for outliers\n",
        "    labels=['Earning_control','Earning_test'],     # Labels for each boxplot\n",
        "    showmeans=True,             # If True, display mean point\n",
        "    showfliers=True,            # If True, display outliers\n",
        "\n",
        ")\n",
        "\n",
        "plt.show()"
      ],
      "metadata": {
        "colab": {
          "base_uri": "https://localhost:8080/",
          "height": 291
        },
        "id": "hzrUwljbNkoy",
        "outputId": "cac04c9d-4903-4c67-a848-7b25e7e8f76d"
      },
      "execution_count": 12,
      "outputs": [
        {
          "output_type": "display_data",
          "data": {
            "text/plain": [
              "<Figure size 500x300 with 1 Axes>"
            ],
            "image/png": "[encoded data removed]"
          },
          "metadata": {}
        }
      ]
    },
    {
      "cell_type": "code",
      "source": [
        "\n",
        "\n",
        "mean_control = df_control['Earning'].mean()\n",
        "mean_test = df_test['Earning'].mean()\n",
        "\n",
        "print(\"mean_control=\", mean_control)\n",
        "print(\"mean_test=\",mean_test)\n",
        "\n",
        "# Perform two-sample t-test for each level of 'pathsize_cat'\n",
        "groupC = df_control['Earning']\n",
        "groupT = df_test['Earning']\n",
        "\n",
        "# Perform Levene's test for homogeneity of variances\n",
        "statistic, p_value_L = levene(groupC, groupT)\n",
        "\n",
        "if  p_value_L > 0.05:\n",
        "\n",
        "    t_statistic, p_value = ttest_ind(groupC, groupT,alternative=\"less\" ,equal_var=True)\n",
        "\n",
        "    print(\"t-statistic:\", t_statistic)\n",
        "    print(\"p-value:\", p_value)\n",
        "\n",
        "else:\n",
        "\n",
        "    t_statistic, p_value = ttest_ind(groupC, groupT,alternative=\"less\", equal_var=False)\n",
        "\n",
        "    print(\"t-statistic:\", t_statistic)\n",
        "    print(\"p-value:\", p_value)\n",
        "\n",
        "# Determine significance\n",
        "alpha = 0.05\n",
        "if p_value < alpha:\n",
        "    print(\"Reject the null hypothesis: There is a significant difference between the means.\")\n",
        "else:\n",
        "    print(\"Fail to reject the null hypothesis: There is no significant difference between the means.\")\n",
        "print(\"\\n\")\n",
        "\n"
      ],
      "metadata": {
        "colab": {
          "base_uri": "https://localhost:8080/"
        },
        "id": "ttRUbOX8Nu9W",
        "outputId": "73d2bfd2-b9ec-4b5e-a0ce-fd5dd2ccbb47"
      },
      "execution_count": 14,
      "outputs": [
        {
          "output_type": "stream",
          "name": "stdout",
          "text": [
            "mean_control= 1908.575\n",
            "mean_test= 2514.925\n",
            "t-statistic: -9.256092651165002\n",
            "p-value: 1.720180077421263e-14\n",
            "Reject the null hypothesis: There is a significant difference between the means.\n",
            "\n",
            "\n"
          ]
        }
      ]
    },
    {
      "cell_type": "markdown",
      "source": [
        "With this we can see that there is a significant difference between the means. Hence, we can conclude that the new version has higher earnings andgo ahead with the new version."
      ],
      "metadata": {
        "id": "ygCSxzgjQG_W"
      }
    }
  ]
}